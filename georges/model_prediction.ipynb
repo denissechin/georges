{
 "cells": [
  {
   "cell_type": "code",
   "execution_count": null,
   "metadata": {},
   "outputs": [],
   "source": [
    "import torch\n",
    "import torch.nn as nn\n",
    "import torchvision\n",
    "import PIL"
   ]
  },
  {
   "cell_type": "code",
   "execution_count": null,
   "metadata": {},
   "outputs": [],
   "source": [
    "transform_to_input_image = torchvision.transforms.Compose([\n",
    "            torchvision.transforms.Resize(224),\n",
    "            torchvision.transforms.CenterCrop(224),\n",
    "            torchvision.transforms.ToTensor(),\n",
    "            torchvision.transforms.Normalize(mean=[0.485, 0.456, 0.406],\n",
    "                                std=[0.229, 0.224, 0.225])\n",
    "])"
   ]
  },
  {
   "cell_type": "code",
   "execution_count": null,
   "metadata": {},
   "outputs": [],
   "source": [
    "model = torchvision.models.resnet50()\n",
    "model.fc = nn.Sequential(\n",
    "    nn.Linear(in_features=2048, out_features=1, bias=True),\n",
    "    nn.Sigmoid())\n",
    "model.load_state_dict(torch.load('model.pth'))\n"
   ]
  },
  {
   "cell_type": "code",
   "execution_count": null,
   "metadata": {},
   "outputs": [],
   "source": [
    "path = '####' # Указать путь к изображению\n",
    "image = transform_to_input_image(PIL.Image.open(path))\n",
    "with torch.no_grad():\n",
    "    outputs = model(image[None, :, :, :]) > 0.5\n",
    "\n",
    "if outputs:\n",
    "    result = ''\n",
    "else:\n",
    "    result = 'не '\n",
    "    \n",
    "print(f'На изображении определенно {result}Гео́ргий Победоно́сец (Свято́й Гео́ргий, Гео́ргий Каппадоки́йский, Гео́ргий Ли́ддский; греч. Άγιος Γεώργιος)')\n"
   ]
  },
  {
   "cell_type": "code",
   "execution_count": null,
   "metadata": {},
   "outputs": [],
   "source": [
    "model(image[None, :, :, :])"
   ]
  },
  {
   "cell_type": "code",
   "execution_count": null,
   "metadata": {},
   "outputs": [],
   "source": []
  }
 ],
 "metadata": {
  "kernelspec": {
   "display_name": "Python 3",
   "language": "python",
   "name": "python3"
  },
  "language_info": {
   "codemirror_mode": {
    "name": "ipython",
    "version": 3
   },
   "file_extension": ".py",
   "mimetype": "text/x-python",
   "name": "python",
   "nbconvert_exporter": "python",
   "pygments_lexer": "ipython3",
   "version": "3.8.5"
  }
 },
 "nbformat": 4,
 "nbformat_minor": 4
}
